{
  "nbformat": 4,
  "nbformat_minor": 0,
  "metadata": {
    "colab": {
      "provenance": [],
      "include_colab_link": true
    },
    "kernelspec": {
      "name": "python3",
      "display_name": "Python 3"
    },
    "language_info": {
      "name": "python"
    }
  },
  "cells": [
    {
      "cell_type": "markdown",
      "metadata": {
        "id": "view-in-github",
        "colab_type": "text"
      },
      "source": [
        "<a href=\"https://colab.research.google.com/github/Ahtesham-Ibne-Mostafa/BRAC_University_Empty_Room_Finding_Project/blob/main/BRAC_University_empty_room.ipynb\" target=\"_parent\"><img src=\"https://colab.research.google.com/assets/colab-badge.svg\" alt=\"Open In Colab\"/></a>"
      ]
    },
    {
      "cell_type": "code",
      "source": [
        "import pandas as pd\n",
        "import requests\n",
        "from bs4 import BeautifulSoup\n",
        "import datetime"
      ],
      "metadata": {
        "id": "WAXpXJlr3FUd"
      },
      "execution_count": 14,
      "outputs": []
    },
    {
      "cell_type": "code",
      "source": [
        "url = \"https://admissions.bracu.ac.bd/academia/admissionRequirement/getAvailableSeatStatus\"\n",
        "response = requests.get(url)\n",
        "html_content = response.content"
      ],
      "metadata": {
        "id": "7vNHgFOulyLf"
      },
      "execution_count": 2,
      "outputs": []
    },
    {
      "cell_type": "code",
      "source": [
        "# Create a Beautiful Soup object\n",
        "soup = BeautifulSoup(html_content, 'html.parser')"
      ],
      "metadata": {
        "id": "jZk7ufN0mdcQ"
      },
      "execution_count": 3,
      "outputs": []
    },
    {
      "cell_type": "code",
      "source": [
        "# Find the table or elements containing the data\n",
        "table = soup.find('table')"
      ],
      "metadata": {
        "id": "O2tVicO6moCz"
      },
      "execution_count": 4,
      "outputs": []
    },
    {
      "cell_type": "code",
      "source": [
        "# Extract the data from the table\n",
        "data = []\n",
        "for row in table.find_all('tr'):\n",
        "    row_data = []\n",
        "    for cell in row.find_all('td'):\n",
        "        row_data.append(cell.text.strip())\n",
        "    data.append(row_data)\n",
        "\n",
        "dataset = pd.DataFrame(data)"
      ],
      "metadata": {
        "id": "Aa5wtSXEnQvg"
      },
      "execution_count": 5,
      "outputs": []
    },
    {
      "cell_type": "code",
      "source": [
        "dataset.head()"
      ],
      "metadata": {
        "id": "kh2gbvxknsbs",
        "outputId": "757f42fd-7c78-4b34-c2ea-6d7c116815a8",
        "colab": {
          "base_uri": "https://localhost:8080/",
          "height": 206
        }
      },
      "execution_count": 6,
      "outputs": [
        {
          "output_type": "execute_result",
          "data": {
            "text/plain": [
              "  0       1    2    3    4   5  \\\n",
              "0    ACT201  BBA  SHO  3.0  01   \n",
              "1    ACT201  BBA  SHO  3.0  02   \n",
              "2    ACT201  BBA  TBR  3.0  03   \n",
              "3    ACT201  BBA  AFZ  3.0  04   \n",
              "4    ACT201  BBA  KUR  3.0  05   \n",
              "\n",
              "                                                   6   7   8  9  \n",
              "0  Su(02:00 PM-03:20 PM-UB21913) Tu(02:00 PM-03:2...  30  30  0  \n",
              "1  Su(02:00 PM-03:20 PM-UB21913) Tu(02:00 PM-03:2...  30  30  0  \n",
              "2  Mo(03:30 PM-04:50 PM-UB20802) We(03:30 PM-04:5...  33  33  0  \n",
              "3  Su(02:00 PM-03:20 PM-UB20702) Tu(02:00 PM-03:2...  33  33  0  \n",
              "4  Sa(09:30 AM-10:50 AM-UB20702) Th(09:30 AM-10:5...  33  33  0  "
            ],
            "text/html": [
              "\n",
              "  <div id=\"df-5ca1ef31-a499-4e2b-a122-914742fe200c\">\n",
              "    <div class=\"colab-df-container\">\n",
              "      <div>\n",
              "<style scoped>\n",
              "    .dataframe tbody tr th:only-of-type {\n",
              "        vertical-align: middle;\n",
              "    }\n",
              "\n",
              "    .dataframe tbody tr th {\n",
              "        vertical-align: top;\n",
              "    }\n",
              "\n",
              "    .dataframe thead th {\n",
              "        text-align: right;\n",
              "    }\n",
              "</style>\n",
              "<table border=\"1\" class=\"dataframe\">\n",
              "  <thead>\n",
              "    <tr style=\"text-align: right;\">\n",
              "      <th></th>\n",
              "      <th>0</th>\n",
              "      <th>1</th>\n",
              "      <th>2</th>\n",
              "      <th>3</th>\n",
              "      <th>4</th>\n",
              "      <th>5</th>\n",
              "      <th>6</th>\n",
              "      <th>7</th>\n",
              "      <th>8</th>\n",
              "      <th>9</th>\n",
              "    </tr>\n",
              "  </thead>\n",
              "  <tbody>\n",
              "    <tr>\n",
              "      <th>0</th>\n",
              "      <td></td>\n",
              "      <td>ACT201</td>\n",
              "      <td>BBA</td>\n",
              "      <td>SHO</td>\n",
              "      <td>3.0</td>\n",
              "      <td>01</td>\n",
              "      <td>Su(02:00 PM-03:20 PM-UB21913) Tu(02:00 PM-03:2...</td>\n",
              "      <td>30</td>\n",
              "      <td>30</td>\n",
              "      <td>0</td>\n",
              "    </tr>\n",
              "    <tr>\n",
              "      <th>1</th>\n",
              "      <td></td>\n",
              "      <td>ACT201</td>\n",
              "      <td>BBA</td>\n",
              "      <td>SHO</td>\n",
              "      <td>3.0</td>\n",
              "      <td>02</td>\n",
              "      <td>Su(02:00 PM-03:20 PM-UB21913) Tu(02:00 PM-03:2...</td>\n",
              "      <td>30</td>\n",
              "      <td>30</td>\n",
              "      <td>0</td>\n",
              "    </tr>\n",
              "    <tr>\n",
              "      <th>2</th>\n",
              "      <td></td>\n",
              "      <td>ACT201</td>\n",
              "      <td>BBA</td>\n",
              "      <td>TBR</td>\n",
              "      <td>3.0</td>\n",
              "      <td>03</td>\n",
              "      <td>Mo(03:30 PM-04:50 PM-UB20802) We(03:30 PM-04:5...</td>\n",
              "      <td>33</td>\n",
              "      <td>33</td>\n",
              "      <td>0</td>\n",
              "    </tr>\n",
              "    <tr>\n",
              "      <th>3</th>\n",
              "      <td></td>\n",
              "      <td>ACT201</td>\n",
              "      <td>BBA</td>\n",
              "      <td>AFZ</td>\n",
              "      <td>3.0</td>\n",
              "      <td>04</td>\n",
              "      <td>Su(02:00 PM-03:20 PM-UB20702) Tu(02:00 PM-03:2...</td>\n",
              "      <td>33</td>\n",
              "      <td>33</td>\n",
              "      <td>0</td>\n",
              "    </tr>\n",
              "    <tr>\n",
              "      <th>4</th>\n",
              "      <td></td>\n",
              "      <td>ACT201</td>\n",
              "      <td>BBA</td>\n",
              "      <td>KUR</td>\n",
              "      <td>3.0</td>\n",
              "      <td>05</td>\n",
              "      <td>Sa(09:30 AM-10:50 AM-UB20702) Th(09:30 AM-10:5...</td>\n",
              "      <td>33</td>\n",
              "      <td>33</td>\n",
              "      <td>0</td>\n",
              "    </tr>\n",
              "  </tbody>\n",
              "</table>\n",
              "</div>\n",
              "      <button class=\"colab-df-convert\" onclick=\"convertToInteractive('df-5ca1ef31-a499-4e2b-a122-914742fe200c')\"\n",
              "              title=\"Convert this dataframe to an interactive table.\"\n",
              "              style=\"display:none;\">\n",
              "        \n",
              "  <svg xmlns=\"http://www.w3.org/2000/svg\" height=\"24px\"viewBox=\"0 0 24 24\"\n",
              "       width=\"24px\">\n",
              "    <path d=\"M0 0h24v24H0V0z\" fill=\"none\"/>\n",
              "    <path d=\"M18.56 5.44l.94 2.06.94-2.06 2.06-.94-2.06-.94-.94-2.06-.94 2.06-2.06.94zm-11 1L8.5 8.5l.94-2.06 2.06-.94-2.06-.94L8.5 2.5l-.94 2.06-2.06.94zm10 10l.94 2.06.94-2.06 2.06-.94-2.06-.94-.94-2.06-.94 2.06-2.06.94z\"/><path d=\"M17.41 7.96l-1.37-1.37c-.4-.4-.92-.59-1.43-.59-.52 0-1.04.2-1.43.59L10.3 9.45l-7.72 7.72c-.78.78-.78 2.05 0 2.83L4 21.41c.39.39.9.59 1.41.59.51 0 1.02-.2 1.41-.59l7.78-7.78 2.81-2.81c.8-.78.8-2.07 0-2.86zM5.41 20L4 18.59l7.72-7.72 1.47 1.35L5.41 20z\"/>\n",
              "  </svg>\n",
              "      </button>\n",
              "      \n",
              "  <style>\n",
              "    .colab-df-container {\n",
              "      display:flex;\n",
              "      flex-wrap:wrap;\n",
              "      gap: 12px;\n",
              "    }\n",
              "\n",
              "    .colab-df-convert {\n",
              "      background-color: #E8F0FE;\n",
              "      border: none;\n",
              "      border-radius: 50%;\n",
              "      cursor: pointer;\n",
              "      display: none;\n",
              "      fill: #1967D2;\n",
              "      height: 32px;\n",
              "      padding: 0 0 0 0;\n",
              "      width: 32px;\n",
              "    }\n",
              "\n",
              "    .colab-df-convert:hover {\n",
              "      background-color: #E2EBFA;\n",
              "      box-shadow: 0px 1px 2px rgba(60, 64, 67, 0.3), 0px 1px 3px 1px rgba(60, 64, 67, 0.15);\n",
              "      fill: #174EA6;\n",
              "    }\n",
              "\n",
              "    [theme=dark] .colab-df-convert {\n",
              "      background-color: #3B4455;\n",
              "      fill: #D2E3FC;\n",
              "    }\n",
              "\n",
              "    [theme=dark] .colab-df-convert:hover {\n",
              "      background-color: #434B5C;\n",
              "      box-shadow: 0px 1px 3px 1px rgba(0, 0, 0, 0.15);\n",
              "      filter: drop-shadow(0px 1px 2px rgba(0, 0, 0, 0.3));\n",
              "      fill: #FFFFFF;\n",
              "    }\n",
              "  </style>\n",
              "\n",
              "      <script>\n",
              "        const buttonEl =\n",
              "          document.querySelector('#df-5ca1ef31-a499-4e2b-a122-914742fe200c button.colab-df-convert');\n",
              "        buttonEl.style.display =\n",
              "          google.colab.kernel.accessAllowed ? 'block' : 'none';\n",
              "\n",
              "        async function convertToInteractive(key) {\n",
              "          const element = document.querySelector('#df-5ca1ef31-a499-4e2b-a122-914742fe200c');\n",
              "          const dataTable =\n",
              "            await google.colab.kernel.invokeFunction('convertToInteractive',\n",
              "                                                     [key], {});\n",
              "          if (!dataTable) return;\n",
              "\n",
              "          const docLinkHtml = 'Like what you see? Visit the ' +\n",
              "            '<a target=\"_blank\" href=https://colab.research.google.com/notebooks/data_table.ipynb>data table notebook</a>'\n",
              "            + ' to learn more about interactive tables.';\n",
              "          element.innerHTML = '';\n",
              "          dataTable['output_type'] = 'display_data';\n",
              "          await google.colab.output.renderOutput(dataTable, element);\n",
              "          const docLink = document.createElement('div');\n",
              "          docLink.innerHTML = docLinkHtml;\n",
              "          element.appendChild(docLink);\n",
              "        }\n",
              "      </script>\n",
              "    </div>\n",
              "  </div>\n",
              "  "
            ]
          },
          "metadata": {},
          "execution_count": 6
        }
      ]
    },
    {
      "cell_type": "code",
      "source": [
        "print(len(dataset[6]))"
      ],
      "metadata": {
        "id": "CmkrRH_8rGNs",
        "outputId": "4345b854-0ef5-412f-971a-74d040965f94",
        "colab": {
          "base_uri": "https://localhost:8080/"
        }
      },
      "execution_count": 7,
      "outputs": [
        {
          "output_type": "stream",
          "name": "stdout",
          "text": [
            "1398\n"
          ]
        }
      ]
    },
    {
      "cell_type": "code",
      "source": [
        "def csv(dataset):\n",
        "  day_list = []\n",
        "  time_list = []\n",
        "  room_list = []\n",
        "\n",
        "  for i in range(len(dataset[6])):\n",
        "      text=dataset[6][i].split(') ')\n",
        "      for item in text:\n",
        "          day_start = item.find(\"(\") + 1\n",
        "          start_time_start = item.find(\"(\") + 1\n",
        "          start_time_end = item.find(\"-\", start_time_start)\n",
        "          end_time_start = item.find(\"-\", start_time_end) + 1\n",
        "          end_time_end = item.find(\"-\", end_time_start)\n",
        "          room_start = item.find(\"-\", end_time_end) + 1\n",
        "          if ')' in item:\n",
        "              room_end = item.find(\")\", room_start)\n",
        "          else:\n",
        "              room_end=len(item)\n",
        "          day = item[:2]\n",
        "          start_time = item[start_time_start:start_time_end]\n",
        "          end_time = item[end_time_start:end_time_end]\n",
        "          room = item[room_start:room_end]\n",
        "\n",
        "          day_list.append(day)\n",
        "          time_list.append(start_time+'-'+end_time)\n",
        "          room_list.append(room)\n",
        "\n",
        "          df = pd.DataFrame({\n",
        "              'Day': day_list,\n",
        "              'Time': time_list,\n",
        "              'Room Number': room_list})\n",
        "  return df"
      ],
      "metadata": {
        "id": "1l_vtQ1poMsS"
      },
      "execution_count": 8,
      "outputs": []
    },
    {
      "cell_type": "code",
      "source": [
        "df=csv(dataset)\n",
        "df.head()"
      ],
      "metadata": {
        "id": "usY28ADnteOQ",
        "outputId": "20b37453-2a72-4b12-df63-13f93a97ef36",
        "colab": {
          "base_uri": "https://localhost:8080/",
          "height": 206
        }
      },
      "execution_count": 9,
      "outputs": [
        {
          "output_type": "execute_result",
          "data": {
            "text/plain": [
              "  Day               Time Room Number\n",
              "0  Su  02:00 PM-03:20 PM     UB21913\n",
              "1  Tu  02:00 PM-03:20 PM     UB21913\n",
              "2  Su  02:00 PM-03:20 PM     UB21913\n",
              "3  Tu  02:00 PM-03:20 PM     UB21913\n",
              "4  Mo  03:30 PM-04:50 PM     UB20802"
            ],
            "text/html": [
              "\n",
              "  <div id=\"df-b14f6901-f41a-4b5b-a6d5-a4c90ddef04e\">\n",
              "    <div class=\"colab-df-container\">\n",
              "      <div>\n",
              "<style scoped>\n",
              "    .dataframe tbody tr th:only-of-type {\n",
              "        vertical-align: middle;\n",
              "    }\n",
              "\n",
              "    .dataframe tbody tr th {\n",
              "        vertical-align: top;\n",
              "    }\n",
              "\n",
              "    .dataframe thead th {\n",
              "        text-align: right;\n",
              "    }\n",
              "</style>\n",
              "<table border=\"1\" class=\"dataframe\">\n",
              "  <thead>\n",
              "    <tr style=\"text-align: right;\">\n",
              "      <th></th>\n",
              "      <th>Day</th>\n",
              "      <th>Time</th>\n",
              "      <th>Room Number</th>\n",
              "    </tr>\n",
              "  </thead>\n",
              "  <tbody>\n",
              "    <tr>\n",
              "      <th>0</th>\n",
              "      <td>Su</td>\n",
              "      <td>02:00 PM-03:20 PM</td>\n",
              "      <td>UB21913</td>\n",
              "    </tr>\n",
              "    <tr>\n",
              "      <th>1</th>\n",
              "      <td>Tu</td>\n",
              "      <td>02:00 PM-03:20 PM</td>\n",
              "      <td>UB21913</td>\n",
              "    </tr>\n",
              "    <tr>\n",
              "      <th>2</th>\n",
              "      <td>Su</td>\n",
              "      <td>02:00 PM-03:20 PM</td>\n",
              "      <td>UB21913</td>\n",
              "    </tr>\n",
              "    <tr>\n",
              "      <th>3</th>\n",
              "      <td>Tu</td>\n",
              "      <td>02:00 PM-03:20 PM</td>\n",
              "      <td>UB21913</td>\n",
              "    </tr>\n",
              "    <tr>\n",
              "      <th>4</th>\n",
              "      <td>Mo</td>\n",
              "      <td>03:30 PM-04:50 PM</td>\n",
              "      <td>UB20802</td>\n",
              "    </tr>\n",
              "  </tbody>\n",
              "</table>\n",
              "</div>\n",
              "      <button class=\"colab-df-convert\" onclick=\"convertToInteractive('df-b14f6901-f41a-4b5b-a6d5-a4c90ddef04e')\"\n",
              "              title=\"Convert this dataframe to an interactive table.\"\n",
              "              style=\"display:none;\">\n",
              "        \n",
              "  <svg xmlns=\"http://www.w3.org/2000/svg\" height=\"24px\"viewBox=\"0 0 24 24\"\n",
              "       width=\"24px\">\n",
              "    <path d=\"M0 0h24v24H0V0z\" fill=\"none\"/>\n",
              "    <path d=\"M18.56 5.44l.94 2.06.94-2.06 2.06-.94-2.06-.94-.94-2.06-.94 2.06-2.06.94zm-11 1L8.5 8.5l.94-2.06 2.06-.94-2.06-.94L8.5 2.5l-.94 2.06-2.06.94zm10 10l.94 2.06.94-2.06 2.06-.94-2.06-.94-.94-2.06-.94 2.06-2.06.94z\"/><path d=\"M17.41 7.96l-1.37-1.37c-.4-.4-.92-.59-1.43-.59-.52 0-1.04.2-1.43.59L10.3 9.45l-7.72 7.72c-.78.78-.78 2.05 0 2.83L4 21.41c.39.39.9.59 1.41.59.51 0 1.02-.2 1.41-.59l7.78-7.78 2.81-2.81c.8-.78.8-2.07 0-2.86zM5.41 20L4 18.59l7.72-7.72 1.47 1.35L5.41 20z\"/>\n",
              "  </svg>\n",
              "      </button>\n",
              "      \n",
              "  <style>\n",
              "    .colab-df-container {\n",
              "      display:flex;\n",
              "      flex-wrap:wrap;\n",
              "      gap: 12px;\n",
              "    }\n",
              "\n",
              "    .colab-df-convert {\n",
              "      background-color: #E8F0FE;\n",
              "      border: none;\n",
              "      border-radius: 50%;\n",
              "      cursor: pointer;\n",
              "      display: none;\n",
              "      fill: #1967D2;\n",
              "      height: 32px;\n",
              "      padding: 0 0 0 0;\n",
              "      width: 32px;\n",
              "    }\n",
              "\n",
              "    .colab-df-convert:hover {\n",
              "      background-color: #E2EBFA;\n",
              "      box-shadow: 0px 1px 2px rgba(60, 64, 67, 0.3), 0px 1px 3px 1px rgba(60, 64, 67, 0.15);\n",
              "      fill: #174EA6;\n",
              "    }\n",
              "\n",
              "    [theme=dark] .colab-df-convert {\n",
              "      background-color: #3B4455;\n",
              "      fill: #D2E3FC;\n",
              "    }\n",
              "\n",
              "    [theme=dark] .colab-df-convert:hover {\n",
              "      background-color: #434B5C;\n",
              "      box-shadow: 0px 1px 3px 1px rgba(0, 0, 0, 0.15);\n",
              "      filter: drop-shadow(0px 1px 2px rgba(0, 0, 0, 0.3));\n",
              "      fill: #FFFFFF;\n",
              "    }\n",
              "  </style>\n",
              "\n",
              "      <script>\n",
              "        const buttonEl =\n",
              "          document.querySelector('#df-b14f6901-f41a-4b5b-a6d5-a4c90ddef04e button.colab-df-convert');\n",
              "        buttonEl.style.display =\n",
              "          google.colab.kernel.accessAllowed ? 'block' : 'none';\n",
              "\n",
              "        async function convertToInteractive(key) {\n",
              "          const element = document.querySelector('#df-b14f6901-f41a-4b5b-a6d5-a4c90ddef04e');\n",
              "          const dataTable =\n",
              "            await google.colab.kernel.invokeFunction('convertToInteractive',\n",
              "                                                     [key], {});\n",
              "          if (!dataTable) return;\n",
              "\n",
              "          const docLinkHtml = 'Like what you see? Visit the ' +\n",
              "            '<a target=\"_blank\" href=https://colab.research.google.com/notebooks/data_table.ipynb>data table notebook</a>'\n",
              "            + ' to learn more about interactive tables.';\n",
              "          element.innerHTML = '';\n",
              "          dataTable['output_type'] = 'display_data';\n",
              "          await google.colab.output.renderOutput(dataTable, element);\n",
              "          const docLink = document.createElement('div');\n",
              "          docLink.innerHTML = docLinkHtml;\n",
              "          element.appendChild(docLink);\n",
              "        }\n",
              "      </script>\n",
              "    </div>\n",
              "  </div>\n",
              "  "
            ]
          },
          "metadata": {},
          "execution_count": 9
        }
      ]
    },
    {
      "cell_type": "code",
      "source": [
        "rooms = df['Room Number'].unique()\n",
        "rooms=list(rooms)\n",
        "print(len(rooms))"
      ],
      "metadata": {
        "id": "aZwpGUc6pt4v",
        "outputId": "06df5993-48c0-4e22-b700-33a9202dbdf0",
        "colab": {
          "base_uri": "https://localhost:8080/"
        }
      },
      "execution_count": 10,
      "outputs": [
        {
          "output_type": "stream",
          "name": "stdout",
          "text": [
            "135\n"
          ]
        }
      ]
    },
    {
      "cell_type": "code",
      "source": [
        "def is_in_time_range(start,end,time):\n",
        "    start_time = datetime.datetime.strptime(\"03:30 PM\", \"%I:%M %p\")\n",
        "    end_time = datetime.datetime.strptime(\"04:50 PM\", \"%I:%M %p\")\n",
        "\n",
        "    time = datetime.datetime.strptime(time, \"%I:%M %p\")\n",
        "\n",
        "    return start_time <= time <= end_time\n",
        "\n",
        "\n",
        "def check_time(time,df):\n",
        "  unique_time=df[\"Time\"].unique()\n",
        "  for i in unique_time:\n",
        "    start=i.split('-')[0]\n",
        "    end=i.split('-')[1]\n",
        "    if is_in_time_range(start,end,time):\n",
        "        return i"
      ],
      "metadata": {
        "id": "TCfGVU-79bLo"
      },
      "execution_count": 25,
      "outputs": []
    },
    {
      "cell_type": "code",
      "source": [
        "day = input('Enter the day(eg: Monday): ')\n",
        "time = check_time(input('Enter the time(eg: 03:30 PM): ').upper(),df)\n",
        "\n",
        "day= day[0].upper()+day[1]\n",
        "# Filter the DataFrame based on day and time\n",
        "\n",
        "filtered_rows = df[(df['Day'] == day) & (df['Time'] == time)]\n",
        "\n",
        "# Access the 'Room Number' column from the filtered rows\n",
        "room_numbers = filtered_rows['Room Number'].tolist()\n",
        "print(room_numbers)"
      ],
      "metadata": {
        "id": "4gLTud-y93T1",
        "outputId": "168514eb-d16f-4c6f-b2ae-b172f42e7d92",
        "colab": {
          "base_uri": "https://localhost:8080/"
        }
      },
      "execution_count": 29,
      "outputs": [
        {
          "output_type": "stream",
          "name": "stdout",
          "text": [
            "Enter the day(eg: Monday): monday\n",
            "Enter the time(eg: 03:30 PM): 3:45 pm\n",
            "['UB20801', 'UB20802', 'UB20803', 'UB41404', 'UB70802', 'UB10203', 'UB21002', 'UB10204', 'UB21006', 'UB20804', 'UB20702', 'UB10102', 'UB21203', 'UB70401', 'UB80302', 'UB30403', 'UB80202', 'UB30303', 'UB80402', 'UB40203', 'UB71002', 'UB41001', 'UB41003', 'UB30301', 'UB71101', 'UB30401', 'UB80103', 'UB80301', 'UB70501', 'UB50201', 'UB81401', 'UB30102', 'UB41002', 'UB80401', 'UB70304', 'UB70301', 'UB40103', 'UB70403', 'UB41103', 'UB71103', 'UB30202', 'UB71102', 'UB71102', 'UB40101', 'UB80201', 'UB80102', 'UB40902', 'UB70502', 'UB70402', 'UB70702', 'UB41201', 'UB41101', 'UB70801', 'UB50302', 'UB30103', 'UB30203', 'UB40401', 'UB50303', 'UB70801', 'UB70801', 'UB50302', 'UB50301', 'UB20901', 'UB20902', 'UB20903', 'UB20904', 'UB10101', 'UB20102', 'UB20103', 'UB20104', 'UB21310', 'UB10303', 'UB20501', 'UB20701', 'UB10201', 'UB10304', 'UB30502', 'UB80204', 'UB70303', 'UB71003', 'UB70503', 'UB30501', 'UB40903', 'UB40904', 'UB30503', 'UB21007', 'UB10103', 'UB21003', 'UB20203', 'UB60809', 'UB10104', 'UB60603', 'UB41403', 'UB21005', 'UB20204', 'UB20101', 'UB40901', 'UB30302', 'UB40602', 'UB70802', 'UB110202', 'UB110201']\n"
          ]
        }
      ]
    },
    {
      "cell_type": "code",
      "source": [
        "new = [x for x in rooms if x not in room_numbers]\n",
        "print(*new)"
      ],
      "metadata": {
        "id": "uIb7VMueAF6-",
        "outputId": "468347f5-d03f-47ca-c59b-3262cf89cfe8",
        "colab": {
          "base_uri": "https://localhost:8080/"
        }
      },
      "execution_count": 30,
      "outputs": [
        {
          "output_type": "stream",
          "name": "stdout",
          "text": [
            "UB21913 UB100204 UB100202 UB100203 UB21511 UB100401 UB100501 UB100402 UB100502 UB10305 UB21901 UB10301 UB10302 UB70701 UB80403 UB80404 UB41203 UB41301 UB70302 UB40403 UB41102 UB80101 UB41202 UB70804 UB71309 UB80910 UB50102 UB50402 UB413007 UB100503 UB0000 UB50202 UB50603 UB50403 UB21202 UB21205 UB80203 UB40201\n"
          ]
        }
      ]
    },
    {
      "cell_type": "code",
      "source": [],
      "metadata": {
        "id": "3bLaP0ycCTQz"
      },
      "execution_count": null,
      "outputs": []
    }
  ]
}