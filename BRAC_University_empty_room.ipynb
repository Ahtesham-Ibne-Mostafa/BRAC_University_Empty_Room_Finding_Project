{
  "nbformat": 4,
  "nbformat_minor": 0,
  "metadata": {
    "colab": {
      "provenance": [],
      "authorship_tag": "ABX9TyPbYBB1DkDESgpNM4OCucE6",
      "include_colab_link": true
    },
    "kernelspec": {
      "name": "python3",
      "display_name": "Python 3"
    },
    "language_info": {
      "name": "python"
    }
  },
  "cells": [
    {
      "cell_type": "markdown",
      "metadata": {
        "id": "view-in-github",
        "colab_type": "text"
      },
      "source": [
        "<a href=\"https://colab.research.google.com/github/Ahtesham-Ibne-Mostafa/BRAC_University_Empty_Room_Finding_Project/blob/main/BRAC_University_empty_room.ipynb\" target=\"_parent\"><img src=\"https://colab.research.google.com/assets/colab-badge.svg\" alt=\"Open In Colab\"/></a>"
      ]
    },
    {
      "cell_type": "code",
      "execution_count": null,
      "metadata": {
        "id": "Uxotai1aabnf"
      },
      "outputs": [],
      "source": [
        "# Open the file in read mode\n",
        "file_path = \"/content/Brac.txt\"\n",
        "file = open(file_path, \"r\")\n",
        "\n",
        "# Read the entire file content\n",
        "content = file.readlines()\n",
        "\n",
        "file.close()"
      ]
    },
    {
      "cell_type": "code",
      "source": [
        "print(len(content))"
      ],
      "metadata": {
        "colab": {
          "base_uri": "https://localhost:8080/"
        },
        "id": "EFLZijcXbSaW",
        "outputId": "def62c60-8d5f-4473-d940-b7fdf7041101"
      },
      "execution_count": null,
      "outputs": [
        {
          "output_type": "stream",
          "name": "stdout",
          "text": [
            "19572\n"
          ]
        }
      ]
    },
    {
      "cell_type": "code",
      "source": [
        "lst=[]\n",
        "for i in content:\n",
        "    if '290px' in i:\n",
        "        lst.append(i)"
      ],
      "metadata": {
        "id": "vQijV4nhcW0k"
      },
      "execution_count": 87,
      "outputs": []
    },
    {
      "cell_type": "code",
      "source": [
        "import pandas as pd\n",
        "Mo(08:00 AM-09:20 AM-UB413007) Mo(09:30 AM-10:50 AM-UB413007)"
      ],
      "metadata": {
        "id": "vntrhPNLU7eH"
      },
      "execution_count": 28,
      "outputs": []
    },
    {
      "cell_type": "code",
      "source": [
        "day_list = []\n",
        "time_list = []\n",
        "room_list = []\n",
        "\n",
        "for i in range(len(lst)):\n",
        "    text=lst[i].split('>')[1][:-4].split(') ')\n",
        "    for item in text:\n",
        "        day_start = item.find(\"(\") + 1\n",
        "        start_time_start = item.find(\"(\") + 1\n",
        "        start_time_end = item.find(\"-\", start_time_start)\n",
        "        end_time_start = item.find(\"-\", start_time_end) + 1\n",
        "        end_time_end = item.find(\"-\", end_time_start)\n",
        "        room_start = item.find(\"-\", end_time_end) + 1\n",
        "        if ')' in item:\n",
        "            room_end = item.find(\")\", room_start)\n",
        "        else:\n",
        "            room_end=len(item)\n",
        "        day = item[:2]\n",
        "        start_time = item[start_time_start:start_time_end]\n",
        "        end_time = item[end_time_start:end_time_end]\n",
        "        room = item[room_start:room_end]\n",
        "\n",
        "        day_list.append(day)\n",
        "        time_list.append(start_time+'-'+end_time)\n",
        "        room_list.append(room)\n",
        "\n",
        "        df = pd.DataFrame({\n",
        "            'Day': day_list,\n",
        "            'Time': time_list,\n",
        "            'Room Number': room_list})"
      ],
      "metadata": {
        "id": "v-IWuA6JfxR2"
      },
      "execution_count": 52,
      "outputs": []
    },
    {
      "cell_type": "code",
      "source": [
        "df.head()"
      ],
      "metadata": {
        "id": "wdahXyP7NoIj",
        "colab": {
          "base_uri": "https://localhost:8080/",
          "height": 206
        },
        "outputId": "b0054d1d-302a-4963-cbef-9fb0c648d435"
      },
      "execution_count": 53,
      "outputs": [
        {
          "output_type": "execute_result",
          "data": {
            "text/plain": [
              "  Day               Time Room Number\n",
              "0  Su  02:00 PM-03:20 PM     UB21913\n",
              "1  Tu  02:00 PM-03:20 PM     UB21913\n",
              "2  Su  02:00 PM-03:20 PM     UB21913\n",
              "3  Tu  02:00 PM-03:20 PM     UB21913\n",
              "4  Mo  03:30 PM-04:50 PM     UB20802"
            ],
            "text/html": [
              "\n",
              "  <div id=\"df-ed891c0f-b5c6-40dc-b530-5ab3e5415ec9\">\n",
              "    <div class=\"colab-df-container\">\n",
              "      <div>\n",
              "<style scoped>\n",
              "    .dataframe tbody tr th:only-of-type {\n",
              "        vertical-align: middle;\n",
              "    }\n",
              "\n",
              "    .dataframe tbody tr th {\n",
              "        vertical-align: top;\n",
              "    }\n",
              "\n",
              "    .dataframe thead th {\n",
              "        text-align: right;\n",
              "    }\n",
              "</style>\n",
              "<table border=\"1\" class=\"dataframe\">\n",
              "  <thead>\n",
              "    <tr style=\"text-align: right;\">\n",
              "      <th></th>\n",
              "      <th>Day</th>\n",
              "      <th>Time</th>\n",
              "      <th>Room Number</th>\n",
              "    </tr>\n",
              "  </thead>\n",
              "  <tbody>\n",
              "    <tr>\n",
              "      <th>0</th>\n",
              "      <td>Su</td>\n",
              "      <td>02:00 PM-03:20 PM</td>\n",
              "      <td>UB21913</td>\n",
              "    </tr>\n",
              "    <tr>\n",
              "      <th>1</th>\n",
              "      <td>Tu</td>\n",
              "      <td>02:00 PM-03:20 PM</td>\n",
              "      <td>UB21913</td>\n",
              "    </tr>\n",
              "    <tr>\n",
              "      <th>2</th>\n",
              "      <td>Su</td>\n",
              "      <td>02:00 PM-03:20 PM</td>\n",
              "      <td>UB21913</td>\n",
              "    </tr>\n",
              "    <tr>\n",
              "      <th>3</th>\n",
              "      <td>Tu</td>\n",
              "      <td>02:00 PM-03:20 PM</td>\n",
              "      <td>UB21913</td>\n",
              "    </tr>\n",
              "    <tr>\n",
              "      <th>4</th>\n",
              "      <td>Mo</td>\n",
              "      <td>03:30 PM-04:50 PM</td>\n",
              "      <td>UB20802</td>\n",
              "    </tr>\n",
              "  </tbody>\n",
              "</table>\n",
              "</div>\n",
              "      <button class=\"colab-df-convert\" onclick=\"convertToInteractive('df-ed891c0f-b5c6-40dc-b530-5ab3e5415ec9')\"\n",
              "              title=\"Convert this dataframe to an interactive table.\"\n",
              "              style=\"display:none;\">\n",
              "        \n",
              "  <svg xmlns=\"http://www.w3.org/2000/svg\" height=\"24px\"viewBox=\"0 0 24 24\"\n",
              "       width=\"24px\">\n",
              "    <path d=\"M0 0h24v24H0V0z\" fill=\"none\"/>\n",
              "    <path d=\"M18.56 5.44l.94 2.06.94-2.06 2.06-.94-2.06-.94-.94-2.06-.94 2.06-2.06.94zm-11 1L8.5 8.5l.94-2.06 2.06-.94-2.06-.94L8.5 2.5l-.94 2.06-2.06.94zm10 10l.94 2.06.94-2.06 2.06-.94-2.06-.94-.94-2.06-.94 2.06-2.06.94z\"/><path d=\"M17.41 7.96l-1.37-1.37c-.4-.4-.92-.59-1.43-.59-.52 0-1.04.2-1.43.59L10.3 9.45l-7.72 7.72c-.78.78-.78 2.05 0 2.83L4 21.41c.39.39.9.59 1.41.59.51 0 1.02-.2 1.41-.59l7.78-7.78 2.81-2.81c.8-.78.8-2.07 0-2.86zM5.41 20L4 18.59l7.72-7.72 1.47 1.35L5.41 20z\"/>\n",
              "  </svg>\n",
              "      </button>\n",
              "      \n",
              "  <style>\n",
              "    .colab-df-container {\n",
              "      display:flex;\n",
              "      flex-wrap:wrap;\n",
              "      gap: 12px;\n",
              "    }\n",
              "\n",
              "    .colab-df-convert {\n",
              "      background-color: #E8F0FE;\n",
              "      border: none;\n",
              "      border-radius: 50%;\n",
              "      cursor: pointer;\n",
              "      display: none;\n",
              "      fill: #1967D2;\n",
              "      height: 32px;\n",
              "      padding: 0 0 0 0;\n",
              "      width: 32px;\n",
              "    }\n",
              "\n",
              "    .colab-df-convert:hover {\n",
              "      background-color: #E2EBFA;\n",
              "      box-shadow: 0px 1px 2px rgba(60, 64, 67, 0.3), 0px 1px 3px 1px rgba(60, 64, 67, 0.15);\n",
              "      fill: #174EA6;\n",
              "    }\n",
              "\n",
              "    [theme=dark] .colab-df-convert {\n",
              "      background-color: #3B4455;\n",
              "      fill: #D2E3FC;\n",
              "    }\n",
              "\n",
              "    [theme=dark] .colab-df-convert:hover {\n",
              "      background-color: #434B5C;\n",
              "      box-shadow: 0px 1px 3px 1px rgba(0, 0, 0, 0.15);\n",
              "      filter: drop-shadow(0px 1px 2px rgba(0, 0, 0, 0.3));\n",
              "      fill: #FFFFFF;\n",
              "    }\n",
              "  </style>\n",
              "\n",
              "      <script>\n",
              "        const buttonEl =\n",
              "          document.querySelector('#df-ed891c0f-b5c6-40dc-b530-5ab3e5415ec9 button.colab-df-convert');\n",
              "        buttonEl.style.display =\n",
              "          google.colab.kernel.accessAllowed ? 'block' : 'none';\n",
              "\n",
              "        async function convertToInteractive(key) {\n",
              "          const element = document.querySelector('#df-ed891c0f-b5c6-40dc-b530-5ab3e5415ec9');\n",
              "          const dataTable =\n",
              "            await google.colab.kernel.invokeFunction('convertToInteractive',\n",
              "                                                     [key], {});\n",
              "          if (!dataTable) return;\n",
              "\n",
              "          const docLinkHtml = 'Like what you see? Visit the ' +\n",
              "            '<a target=\"_blank\" href=https://colab.research.google.com/notebooks/data_table.ipynb>data table notebook</a>'\n",
              "            + ' to learn more about interactive tables.';\n",
              "          element.innerHTML = '';\n",
              "          dataTable['output_type'] = 'display_data';\n",
              "          await google.colab.output.renderOutput(dataTable, element);\n",
              "          const docLink = document.createElement('div');\n",
              "          docLink.innerHTML = docLinkHtml;\n",
              "          element.appendChild(docLink);\n",
              "        }\n",
              "      </script>\n",
              "    </div>\n",
              "  </div>\n",
              "  "
            ]
          },
          "metadata": {},
          "execution_count": 53
        }
      ]
    },
    {
      "cell_type": "code",
      "source": [
        "rooms = df['Room Number'].unique()\n",
        "rooms=list(rooms)\n",
        "print(len(rooms))"
      ],
      "metadata": {
        "colab": {
          "base_uri": "https://localhost:8080/"
        },
        "id": "SXubfhr7V1rI",
        "outputId": "058c9ac8-ba33-45b4-927d-c71accf3283b"
      },
      "execution_count": 82,
      "outputs": [
        {
          "output_type": "stream",
          "name": "stdout",
          "text": [
            "135\n"
          ]
        }
      ]
    },
    {
      "cell_type": "code",
      "source": [
        "day = 'Mo'\n",
        "time = '02:00 PM-03:20 PM'\n",
        "\n",
        "# Filter the DataFrame based on day and time\n",
        "filtered_rows = df[(df['Day'] == day) & (df['Time'] == time)]\n",
        "\n",
        "# Access the 'Room Number' column from the filtered rows\n",
        "room_numbers = filtered_rows['Room Number'].tolist()\n",
        "print(room_numbers)"
      ],
      "metadata": {
        "colab": {
          "base_uri": "https://localhost:8080/"
        },
        "id": "Hw3bpzDKZY9P",
        "outputId": "c0a3c83a-c728-4d3d-9c74-002b8d878d26"
      },
      "execution_count": 83,
      "outputs": [
        {
          "output_type": "stream",
          "name": "stdout",
          "text": [
            "102\n"
          ]
        }
      ]
    },
    {
      "cell_type": "code",
      "source": [
        "new = [x for x in rooms if x not in room_numbers]\n",
        "print(*new)\n"
      ],
      "metadata": {
        "colab": {
          "base_uri": "https://localhost:8080/"
        },
        "id": "s_gZ5C82dem4",
        "outputId": "82a3eec0-2e03-4f72-dca4-156474a1e446"
      },
      "execution_count": 86,
      "outputs": [
        {
          "output_type": "stream",
          "name": "stdout",
          "text": [
            "UB21913 UB100204 UB100202 UB100203 UB21511 UB100401 UB100501 UB100402 UB100502 UB10305 UB21901 UB10301 UB10302 UB70701 UB80403 UB80404 UB41203 UB41301 UB70302 UB40403 UB41102 UB80101 UB41202 UB70804 UB71309 UB80910 UB50102 UB50402 UB413007 UB100503 UB0000 UB50202 UB50603 UB50403 UB21202 UB21205 UB80203 UB40201\n"
          ]
        }
      ]
    },
    {
      "cell_type": "code",
      "source": [],
      "metadata": {
        "id": "3axawf1igz6W"
      },
      "execution_count": null,
      "outputs": []
    }
  ]
}