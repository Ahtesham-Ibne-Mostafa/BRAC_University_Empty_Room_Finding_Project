{
  "nbformat": 4,
  "nbformat_minor": 0,
  "metadata": {
    "colab": {
      "provenance": [],
      "include_colab_link": true
    },
    "kernelspec": {
      "name": "python3",
      "display_name": "Python 3"
    },
    "language_info": {
      "name": "python"
    }
  },
  "cells": [
    {
      "cell_type": "markdown",
      "metadata": {
        "id": "view-in-github",
        "colab_type": "text"
      },
      "source": [
        "<a href=\"https://colab.research.google.com/github/Ahtesham-Ibne-Mostafa/BRAC_University_Empty_Room_Finding_Project/blob/main/BRAC_University_empty_room.ipynb\" target=\"_parent\"><img src=\"https://colab.research.google.com/assets/colab-badge.svg\" alt=\"Open In Colab\"/></a>"
      ]
    },
    {
      "cell_type": "code",
      "source": [
        "import pandas as pd\n",
        "import requests\n",
        "from bs4 import BeautifulSoup"
      ],
      "metadata": {
        "id": "WAXpXJlr3FUd"
      },
      "execution_count": 7,
      "outputs": []
    },
    {
      "cell_type": "code",
      "source": [
        "url = \"https://admissions.bracu.ac.bd/academia/admissionRequirement/getAvailableSeatStatus\"\n",
        "response = requests.get(url)\n",
        "html_content = response.content"
      ],
      "metadata": {
        "id": "7vNHgFOulyLf"
      },
      "execution_count": 3,
      "outputs": []
    },
    {
      "cell_type": "code",
      "source": [
        "# Create a Beautiful Soup object\n",
        "soup = BeautifulSoup(html_content, 'html.parser')"
      ],
      "metadata": {
        "id": "jZk7ufN0mdcQ"
      },
      "execution_count": 4,
      "outputs": []
    },
    {
      "cell_type": "code",
      "source": [
        "# Find the table or elements containing the data\n",
        "table = soup.find('table')"
      ],
      "metadata": {
        "id": "O2tVicO6moCz"
      },
      "execution_count": 5,
      "outputs": []
    },
    {
      "cell_type": "code",
      "source": [
        "# Extract the data from the table\n",
        "data = []\n",
        "for row in table.find_all('tr'):\n",
        "    row_data = []\n",
        "    for cell in row.find_all('td'):\n",
        "        row_data.append(cell.text.strip())\n",
        "    data.append(row_data)\n",
        "\n",
        "dataset = pd.DataFrame(data)"
      ],
      "metadata": {
        "id": "Aa5wtSXEnQvg"
      },
      "execution_count": 14,
      "outputs": []
    },
    {
      "cell_type": "code",
      "source": [
        "dataset.head()"
      ],
      "metadata": {
        "id": "kh2gbvxknsbs",
        "outputId": "39df545d-00b6-41db-b042-1ea016ecd9ec",
        "colab": {
          "base_uri": "https://localhost:8080/",
          "height": 206
        }
      },
      "execution_count": 21,
      "outputs": [
        {
          "output_type": "execute_result",
          "data": {
            "text/plain": [
              "  0       1    2    3    4   5  \\\n",
              "0    ACT201  BBA  SHO  3.0  01   \n",
              "1    ACT201  BBA  SHO  3.0  02   \n",
              "2    ACT201  BBA  TBR  3.0  03   \n",
              "3    ACT201  BBA  AFZ  3.0  04   \n",
              "4    ACT201  BBA  KUR  3.0  05   \n",
              "\n",
              "                                                   6   7   8  9  \n",
              "0  Su(02:00 PM-03:20 PM-UB21913) Tu(02:00 PM-03:2...  30  30  0  \n",
              "1  Su(02:00 PM-03:20 PM-UB21913) Tu(02:00 PM-03:2...  30  30  0  \n",
              "2  Mo(03:30 PM-04:50 PM-UB20802) We(03:30 PM-04:5...  33  33  0  \n",
              "3  Su(02:00 PM-03:20 PM-UB20702) Tu(02:00 PM-03:2...  33  33  0  \n",
              "4  Sa(09:30 AM-10:50 AM-UB20702) Th(09:30 AM-10:5...  33  33  0  "
            ],
            "text/html": [
              "\n",
              "  <div id=\"df-68c96302-d996-442f-858d-89be67b77e23\">\n",
              "    <div class=\"colab-df-container\">\n",
              "      <div>\n",
              "<style scoped>\n",
              "    .dataframe tbody tr th:only-of-type {\n",
              "        vertical-align: middle;\n",
              "    }\n",
              "\n",
              "    .dataframe tbody tr th {\n",
              "        vertical-align: top;\n",
              "    }\n",
              "\n",
              "    .dataframe thead th {\n",
              "        text-align: right;\n",
              "    }\n",
              "</style>\n",
              "<table border=\"1\" class=\"dataframe\">\n",
              "  <thead>\n",
              "    <tr style=\"text-align: right;\">\n",
              "      <th></th>\n",
              "      <th>0</th>\n",
              "      <th>1</th>\n",
              "      <th>2</th>\n",
              "      <th>3</th>\n",
              "      <th>4</th>\n",
              "      <th>5</th>\n",
              "      <th>6</th>\n",
              "      <th>7</th>\n",
              "      <th>8</th>\n",
              "      <th>9</th>\n",
              "    </tr>\n",
              "  </thead>\n",
              "  <tbody>\n",
              "    <tr>\n",
              "      <th>0</th>\n",
              "      <td></td>\n",
              "      <td>ACT201</td>\n",
              "      <td>BBA</td>\n",
              "      <td>SHO</td>\n",
              "      <td>3.0</td>\n",
              "      <td>01</td>\n",
              "      <td>Su(02:00 PM-03:20 PM-UB21913) Tu(02:00 PM-03:2...</td>\n",
              "      <td>30</td>\n",
              "      <td>30</td>\n",
              "      <td>0</td>\n",
              "    </tr>\n",
              "    <tr>\n",
              "      <th>1</th>\n",
              "      <td></td>\n",
              "      <td>ACT201</td>\n",
              "      <td>BBA</td>\n",
              "      <td>SHO</td>\n",
              "      <td>3.0</td>\n",
              "      <td>02</td>\n",
              "      <td>Su(02:00 PM-03:20 PM-UB21913) Tu(02:00 PM-03:2...</td>\n",
              "      <td>30</td>\n",
              "      <td>30</td>\n",
              "      <td>0</td>\n",
              "    </tr>\n",
              "    <tr>\n",
              "      <th>2</th>\n",
              "      <td></td>\n",
              "      <td>ACT201</td>\n",
              "      <td>BBA</td>\n",
              "      <td>TBR</td>\n",
              "      <td>3.0</td>\n",
              "      <td>03</td>\n",
              "      <td>Mo(03:30 PM-04:50 PM-UB20802) We(03:30 PM-04:5...</td>\n",
              "      <td>33</td>\n",
              "      <td>33</td>\n",
              "      <td>0</td>\n",
              "    </tr>\n",
              "    <tr>\n",
              "      <th>3</th>\n",
              "      <td></td>\n",
              "      <td>ACT201</td>\n",
              "      <td>BBA</td>\n",
              "      <td>AFZ</td>\n",
              "      <td>3.0</td>\n",
              "      <td>04</td>\n",
              "      <td>Su(02:00 PM-03:20 PM-UB20702) Tu(02:00 PM-03:2...</td>\n",
              "      <td>33</td>\n",
              "      <td>33</td>\n",
              "      <td>0</td>\n",
              "    </tr>\n",
              "    <tr>\n",
              "      <th>4</th>\n",
              "      <td></td>\n",
              "      <td>ACT201</td>\n",
              "      <td>BBA</td>\n",
              "      <td>KUR</td>\n",
              "      <td>3.0</td>\n",
              "      <td>05</td>\n",
              "      <td>Sa(09:30 AM-10:50 AM-UB20702) Th(09:30 AM-10:5...</td>\n",
              "      <td>33</td>\n",
              "      <td>33</td>\n",
              "      <td>0</td>\n",
              "    </tr>\n",
              "  </tbody>\n",
              "</table>\n",
              "</div>\n",
              "      <button class=\"colab-df-convert\" onclick=\"convertToInteractive('df-68c96302-d996-442f-858d-89be67b77e23')\"\n",
              "              title=\"Convert this dataframe to an interactive table.\"\n",
              "              style=\"display:none;\">\n",
              "        \n",
              "  <svg xmlns=\"http://www.w3.org/2000/svg\" height=\"24px\"viewBox=\"0 0 24 24\"\n",
              "       width=\"24px\">\n",
              "    <path d=\"M0 0h24v24H0V0z\" fill=\"none\"/>\n",
              "    <path d=\"M18.56 5.44l.94 2.06.94-2.06 2.06-.94-2.06-.94-.94-2.06-.94 2.06-2.06.94zm-11 1L8.5 8.5l.94-2.06 2.06-.94-2.06-.94L8.5 2.5l-.94 2.06-2.06.94zm10 10l.94 2.06.94-2.06 2.06-.94-2.06-.94-.94-2.06-.94 2.06-2.06.94z\"/><path d=\"M17.41 7.96l-1.37-1.37c-.4-.4-.92-.59-1.43-.59-.52 0-1.04.2-1.43.59L10.3 9.45l-7.72 7.72c-.78.78-.78 2.05 0 2.83L4 21.41c.39.39.9.59 1.41.59.51 0 1.02-.2 1.41-.59l7.78-7.78 2.81-2.81c.8-.78.8-2.07 0-2.86zM5.41 20L4 18.59l7.72-7.72 1.47 1.35L5.41 20z\"/>\n",
              "  </svg>\n",
              "      </button>\n",
              "      \n",
              "  <style>\n",
              "    .colab-df-container {\n",
              "      display:flex;\n",
              "      flex-wrap:wrap;\n",
              "      gap: 12px;\n",
              "    }\n",
              "\n",
              "    .colab-df-convert {\n",
              "      background-color: #E8F0FE;\n",
              "      border: none;\n",
              "      border-radius: 50%;\n",
              "      cursor: pointer;\n",
              "      display: none;\n",
              "      fill: #1967D2;\n",
              "      height: 32px;\n",
              "      padding: 0 0 0 0;\n",
              "      width: 32px;\n",
              "    }\n",
              "\n",
              "    .colab-df-convert:hover {\n",
              "      background-color: #E2EBFA;\n",
              "      box-shadow: 0px 1px 2px rgba(60, 64, 67, 0.3), 0px 1px 3px 1px rgba(60, 64, 67, 0.15);\n",
              "      fill: #174EA6;\n",
              "    }\n",
              "\n",
              "    [theme=dark] .colab-df-convert {\n",
              "      background-color: #3B4455;\n",
              "      fill: #D2E3FC;\n",
              "    }\n",
              "\n",
              "    [theme=dark] .colab-df-convert:hover {\n",
              "      background-color: #434B5C;\n",
              "      box-shadow: 0px 1px 3px 1px rgba(0, 0, 0, 0.15);\n",
              "      filter: drop-shadow(0px 1px 2px rgba(0, 0, 0, 0.3));\n",
              "      fill: #FFFFFF;\n",
              "    }\n",
              "  </style>\n",
              "\n",
              "      <script>\n",
              "        const buttonEl =\n",
              "          document.querySelector('#df-68c96302-d996-442f-858d-89be67b77e23 button.colab-df-convert');\n",
              "        buttonEl.style.display =\n",
              "          google.colab.kernel.accessAllowed ? 'block' : 'none';\n",
              "\n",
              "        async function convertToInteractive(key) {\n",
              "          const element = document.querySelector('#df-68c96302-d996-442f-858d-89be67b77e23');\n",
              "          const dataTable =\n",
              "            await google.colab.kernel.invokeFunction('convertToInteractive',\n",
              "                                                     [key], {});\n",
              "          if (!dataTable) return;\n",
              "\n",
              "          const docLinkHtml = 'Like what you see? Visit the ' +\n",
              "            '<a target=\"_blank\" href=https://colab.research.google.com/notebooks/data_table.ipynb>data table notebook</a>'\n",
              "            + ' to learn more about interactive tables.';\n",
              "          element.innerHTML = '';\n",
              "          dataTable['output_type'] = 'display_data';\n",
              "          await google.colab.output.renderOutput(dataTable, element);\n",
              "          const docLink = document.createElement('div');\n",
              "          docLink.innerHTML = docLinkHtml;\n",
              "          element.appendChild(docLink);\n",
              "        }\n",
              "      </script>\n",
              "    </div>\n",
              "  </div>\n",
              "  "
            ]
          },
          "metadata": {},
          "execution_count": 21
        }
      ]
    },
    {
      "cell_type": "code",
      "source": [
        "print(len(dataset[6]))"
      ],
      "metadata": {
        "id": "CmkrRH_8rGNs",
        "outputId": "80fba5f7-2138-4972-be8d-3e6b32f5fc06",
        "colab": {
          "base_uri": "https://localhost:8080/"
        }
      },
      "execution_count": 22,
      "outputs": [
        {
          "output_type": "stream",
          "name": "stdout",
          "text": [
            "1398\n"
          ]
        }
      ]
    },
    {
      "cell_type": "code",
      "source": [
        "def csv(dataset):\n",
        "  day_list = []\n",
        "  time_list = []\n",
        "  room_list = []\n",
        "\n",
        "  for i in range(len(dataset[6])):\n",
        "      text=dataset[6][i].split(') ')\n",
        "      for item in text:\n",
        "          day_start = item.find(\"(\") + 1\n",
        "          start_time_start = item.find(\"(\") + 1\n",
        "          start_time_end = item.find(\"-\", start_time_start)\n",
        "          end_time_start = item.find(\"-\", start_time_end) + 1\n",
        "          end_time_end = item.find(\"-\", end_time_start)\n",
        "          room_start = item.find(\"-\", end_time_end) + 1\n",
        "          if ')' in item:\n",
        "              room_end = item.find(\")\", room_start)\n",
        "          else:\n",
        "              room_end=len(item)\n",
        "          day = item[:2]\n",
        "          start_time = item[start_time_start:start_time_end]\n",
        "          end_time = item[end_time_start:end_time_end]\n",
        "          room = item[room_start:room_end]\n",
        "\n",
        "          day_list.append(day)\n",
        "          time_list.append(start_time+'-'+end_time)\n",
        "          room_list.append(room)\n",
        "\n",
        "          df = pd.DataFrame({\n",
        "              'Day': day_list,\n",
        "              'Time': time_list,\n",
        "              'Room Number': room_list})\n",
        "  return df"
      ],
      "metadata": {
        "id": "1l_vtQ1poMsS"
      },
      "execution_count": 24,
      "outputs": []
    },
    {
      "cell_type": "code",
      "source": [
        "df=csv(dataset)\n",
        "df.head()"
      ],
      "metadata": {
        "id": "usY28ADnteOQ",
        "outputId": "fa0426d4-20a4-409f-d13a-38f7fea17126",
        "colab": {
          "base_uri": "https://localhost:8080/",
          "height": 206
        }
      },
      "execution_count": 25,
      "outputs": [
        {
          "output_type": "execute_result",
          "data": {
            "text/plain": [
              "  Day               Time Room Number\n",
              "0  Su  02:00 PM-03:20 PM     UB21913\n",
              "1  Tu  02:00 PM-03:20 PM     UB21913\n",
              "2  Su  02:00 PM-03:20 PM     UB21913\n",
              "3  Tu  02:00 PM-03:20 PM     UB21913\n",
              "4  Mo  03:30 PM-04:50 PM     UB20802"
            ],
            "text/html": [
              "\n",
              "  <div id=\"df-015d8b5a-ae13-4d52-8028-43fea65221cd\">\n",
              "    <div class=\"colab-df-container\">\n",
              "      <div>\n",
              "<style scoped>\n",
              "    .dataframe tbody tr th:only-of-type {\n",
              "        vertical-align: middle;\n",
              "    }\n",
              "\n",
              "    .dataframe tbody tr th {\n",
              "        vertical-align: top;\n",
              "    }\n",
              "\n",
              "    .dataframe thead th {\n",
              "        text-align: right;\n",
              "    }\n",
              "</style>\n",
              "<table border=\"1\" class=\"dataframe\">\n",
              "  <thead>\n",
              "    <tr style=\"text-align: right;\">\n",
              "      <th></th>\n",
              "      <th>Day</th>\n",
              "      <th>Time</th>\n",
              "      <th>Room Number</th>\n",
              "    </tr>\n",
              "  </thead>\n",
              "  <tbody>\n",
              "    <tr>\n",
              "      <th>0</th>\n",
              "      <td>Su</td>\n",
              "      <td>02:00 PM-03:20 PM</td>\n",
              "      <td>UB21913</td>\n",
              "    </tr>\n",
              "    <tr>\n",
              "      <th>1</th>\n",
              "      <td>Tu</td>\n",
              "      <td>02:00 PM-03:20 PM</td>\n",
              "      <td>UB21913</td>\n",
              "    </tr>\n",
              "    <tr>\n",
              "      <th>2</th>\n",
              "      <td>Su</td>\n",
              "      <td>02:00 PM-03:20 PM</td>\n",
              "      <td>UB21913</td>\n",
              "    </tr>\n",
              "    <tr>\n",
              "      <th>3</th>\n",
              "      <td>Tu</td>\n",
              "      <td>02:00 PM-03:20 PM</td>\n",
              "      <td>UB21913</td>\n",
              "    </tr>\n",
              "    <tr>\n",
              "      <th>4</th>\n",
              "      <td>Mo</td>\n",
              "      <td>03:30 PM-04:50 PM</td>\n",
              "      <td>UB20802</td>\n",
              "    </tr>\n",
              "  </tbody>\n",
              "</table>\n",
              "</div>\n",
              "      <button class=\"colab-df-convert\" onclick=\"convertToInteractive('df-015d8b5a-ae13-4d52-8028-43fea65221cd')\"\n",
              "              title=\"Convert this dataframe to an interactive table.\"\n",
              "              style=\"display:none;\">\n",
              "        \n",
              "  <svg xmlns=\"http://www.w3.org/2000/svg\" height=\"24px\"viewBox=\"0 0 24 24\"\n",
              "       width=\"24px\">\n",
              "    <path d=\"M0 0h24v24H0V0z\" fill=\"none\"/>\n",
              "    <path d=\"M18.56 5.44l.94 2.06.94-2.06 2.06-.94-2.06-.94-.94-2.06-.94 2.06-2.06.94zm-11 1L8.5 8.5l.94-2.06 2.06-.94-2.06-.94L8.5 2.5l-.94 2.06-2.06.94zm10 10l.94 2.06.94-2.06 2.06-.94-2.06-.94-.94-2.06-.94 2.06-2.06.94z\"/><path d=\"M17.41 7.96l-1.37-1.37c-.4-.4-.92-.59-1.43-.59-.52 0-1.04.2-1.43.59L10.3 9.45l-7.72 7.72c-.78.78-.78 2.05 0 2.83L4 21.41c.39.39.9.59 1.41.59.51 0 1.02-.2 1.41-.59l7.78-7.78 2.81-2.81c.8-.78.8-2.07 0-2.86zM5.41 20L4 18.59l7.72-7.72 1.47 1.35L5.41 20z\"/>\n",
              "  </svg>\n",
              "      </button>\n",
              "      \n",
              "  <style>\n",
              "    .colab-df-container {\n",
              "      display:flex;\n",
              "      flex-wrap:wrap;\n",
              "      gap: 12px;\n",
              "    }\n",
              "\n",
              "    .colab-df-convert {\n",
              "      background-color: #E8F0FE;\n",
              "      border: none;\n",
              "      border-radius: 50%;\n",
              "      cursor: pointer;\n",
              "      display: none;\n",
              "      fill: #1967D2;\n",
              "      height: 32px;\n",
              "      padding: 0 0 0 0;\n",
              "      width: 32px;\n",
              "    }\n",
              "\n",
              "    .colab-df-convert:hover {\n",
              "      background-color: #E2EBFA;\n",
              "      box-shadow: 0px 1px 2px rgba(60, 64, 67, 0.3), 0px 1px 3px 1px rgba(60, 64, 67, 0.15);\n",
              "      fill: #174EA6;\n",
              "    }\n",
              "\n",
              "    [theme=dark] .colab-df-convert {\n",
              "      background-color: #3B4455;\n",
              "      fill: #D2E3FC;\n",
              "    }\n",
              "\n",
              "    [theme=dark] .colab-df-convert:hover {\n",
              "      background-color: #434B5C;\n",
              "      box-shadow: 0px 1px 3px 1px rgba(0, 0, 0, 0.15);\n",
              "      filter: drop-shadow(0px 1px 2px rgba(0, 0, 0, 0.3));\n",
              "      fill: #FFFFFF;\n",
              "    }\n",
              "  </style>\n",
              "\n",
              "      <script>\n",
              "        const buttonEl =\n",
              "          document.querySelector('#df-015d8b5a-ae13-4d52-8028-43fea65221cd button.colab-df-convert');\n",
              "        buttonEl.style.display =\n",
              "          google.colab.kernel.accessAllowed ? 'block' : 'none';\n",
              "\n",
              "        async function convertToInteractive(key) {\n",
              "          const element = document.querySelector('#df-015d8b5a-ae13-4d52-8028-43fea65221cd');\n",
              "          const dataTable =\n",
              "            await google.colab.kernel.invokeFunction('convertToInteractive',\n",
              "                                                     [key], {});\n",
              "          if (!dataTable) return;\n",
              "\n",
              "          const docLinkHtml = 'Like what you see? Visit the ' +\n",
              "            '<a target=\"_blank\" href=https://colab.research.google.com/notebooks/data_table.ipynb>data table notebook</a>'\n",
              "            + ' to learn more about interactive tables.';\n",
              "          element.innerHTML = '';\n",
              "          dataTable['output_type'] = 'display_data';\n",
              "          await google.colab.output.renderOutput(dataTable, element);\n",
              "          const docLink = document.createElement('div');\n",
              "          docLink.innerHTML = docLinkHtml;\n",
              "          element.appendChild(docLink);\n",
              "        }\n",
              "      </script>\n",
              "    </div>\n",
              "  </div>\n",
              "  "
            ]
          },
          "metadata": {},
          "execution_count": 25
        }
      ]
    },
    {
      "cell_type": "code",
      "source": [
        "rooms = df['Room Number'].unique()\n",
        "rooms=list(rooms)\n",
        "print(len(rooms))"
      ],
      "metadata": {
        "id": "aZwpGUc6pt4v",
        "outputId": "5b0a8d9a-8d01-4387-da09-4654624949d5",
        "colab": {
          "base_uri": "https://localhost:8080/"
        }
      },
      "execution_count": 26,
      "outputs": [
        {
          "output_type": "stream",
          "name": "stdout",
          "text": [
            "135\n"
          ]
        }
      ]
    },
    {
      "cell_type": "code",
      "source": [
        "time = df['Time'].unique()\n",
        "print(sorted(time))"
      ],
      "metadata": {
        "id": "mbEWsvNUuPsK",
        "outputId": "3237c351-b0d1-412b-b074-8b9fbc908c10",
        "colab": {
          "base_uri": "https://localhost:8080/"
        }
      },
      "execution_count": 27,
      "outputs": [
        {
          "output_type": "stream",
          "name": "stdout",
          "text": [
            "['02:00 PM-02:55 PM', '02:00 PM-03:20 PM', '02:00 PM-04:00 PM', '02:00 PM-05:05 PM', '03:05 PM-04:00 PM', '03:30 PM-04:50 PM', '04:10 PM-05:05 PM', '05:00 PM-06:00 PM', '05:00 PM-06:20 PM', '05:00 PM-06:30 PM', '06:00 PM-08:40 PM', '06:00 PM-09:00 PM', '06:30 PM-09:30 PM', '08:00 AM-09:20 AM', '09:00 AM-01:10 PM', '09:00 AM-09:55 AM', '09:00 AM-12:05 PM', '09:30 AM-10:50 AM', '10:00 AM-01:00 PM', '10:00 AM-12:00 PM', '10:05 AM-11:00 AM', '11:00 AM-12:20 PM', '11:10 AM-12:05 PM', '12:15 PM-01:10 PM', '12:30 PM-01:50 PM']\n"
          ]
        }
      ]
    },
    {
      "cell_type": "code",
      "source": [
        "day = input('Enter the day: ')\n",
        "time = input('Enter the time: ')\n",
        "\n",
        "# Filter the DataFrame based on day and time\n",
        "filtered_rows = df[(df['Day'] == day[:2]) & (df['Time'] == time)]\n",
        "\n",
        "# Access the 'Room Number' column from the filtered rows\n",
        "room_numbers = filtered_rows['Room Number'].tolist()\n",
        "print(room_numbers)"
      ],
      "metadata": {
        "id": "odDhhKUAuWqb",
        "outputId": "cc2248b5-1766-48ba-e5e2-c2a3a9645a5c",
        "colab": {
          "base_uri": "https://localhost:8080/"
        }
      },
      "execution_count": 28,
      "outputs": [
        {
          "output_type": "stream",
          "name": "stdout",
          "text": [
            "Enter the day: mon\n",
            "Enter the time: 3.00\n",
            "[]\n"
          ]
        }
      ]
    },
    {
      "cell_type": "code",
      "source": [
        "new = [x for x in rooms if x not in room_numbers]\n",
        "print(*new)"
      ],
      "metadata": {
        "id": "BRjgsZS8uafU",
        "outputId": "22f8304b-1544-48c9-85ca-2a596bcd082e",
        "colab": {
          "base_uri": "https://localhost:8080/"
        }
      },
      "execution_count": 29,
      "outputs": [
        {
          "output_type": "stream",
          "name": "stdout",
          "text": [
            "UB21913 UB20802 UB20702 UB20801 UB20501 UB20203 UB20803 UB20804 UB20701 UB100204 UB100202 UB40602 UB30103 UB70802 UB41404 UB30203 UB100203 UB21511 UB100401 UB100501 UB100402 UB100502 UB10305 UB10203 UB10204 UB10102 UB10103 UB21002 UB21006 UB21901 UB10301 UB10302 UB21203 UB80202 UB40203 UB41001 UB81401 UB71103 UB80301 UB40103 UB40101 UB70501 UB41003 UB71101 UB41103 UB70701 UB80201 UB80103 UB70403 UB80302 UB80102 UB71102 UB41201 UB40902 UB30303 UB80403 UB70502 UB80404 UB70402 UB41101 UB70401 UB80401 UB30403 UB30301 UB41203 UB30401 UB70301 UB80402 UB40401 UB41301 UB70702 UB70302 UB71002 UB40403 UB50201 UB70304 UB30202 UB41102 UB30102 UB80101 UB41002 UB41202 UB70804 UB50303 UB71309 UB80910 UB30302 UB40901 UB30502 UB50302 UB70801 UB50301 UB50102 UB50402 UB413007 UB100503 UB0000 UB50202 UB50603 UB50403 UB20901 UB20902 UB20903 UB20904 UB10101 UB20102 UB20103 UB20104 UB21202 UB10303 UB21310 UB10304 UB21205 UB110201 UB110202 UB10201 UB40904 UB80203 UB80204 UB30501 UB30503 UB70303 UB71003 UB70503 UB40201 UB40903 UB21007 UB21003 UB10104 UB60809 UB60603 UB41403 UB21005 UB20204 UB20101\n"
          ]
        }
      ]
    },
    {
      "cell_type": "code",
      "source": [],
      "metadata": {
        "id": "ygt544hzulCp"
      },
      "execution_count": null,
      "outputs": []
    }
  ]
}